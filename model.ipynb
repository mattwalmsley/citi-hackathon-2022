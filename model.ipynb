{
 "cells": [
  {
   "cell_type": "code",
   "execution_count": 39,
   "metadata": {},
   "outputs": [],
   "source": [
    "import pandas as pd\n",
    "import numpy as np\n",
    "import requests\n",
    "import json"
   ]
  },
  {
   "cell_type": "code",
   "execution_count": 40,
   "metadata": {},
   "outputs": [],
   "source": [
    "buddies_df = pd.read_csv(\"data/buddies.csv\")\n",
    "interns_df = pd.read_csv(\"data/interns.csv\")"
   ]
  },
  {
   "cell_type": "code",
   "execution_count": 47,
   "metadata": {},
   "outputs": [
    {
     "data": {
      "text/plain": [
       "'[{\"name\":\"Amrit Cisneros\",\"university\":\"Warwick\",\"course\":\"Economics\",\"LoB\":\"XMRT Tech\",\"location\":\"London\",\"interest1\":\"Baseball\",\"interest2\":\"Cricket\",\"interest3\":\"Design\",\"programming1\":\"Python\",\"programming2\":\"Java\",\"request_time\":0.5},{\"name\":\"Aoife Shepard\",\"university\":\"UCL\",\"course\":\"Engineering\",\"LoB\":\"FX Tech\",\"location\":\"Belfast\",\"interest1\":\"Hockey\",\"interest2\":\"Surfing\",\"interest3\":\"Hockey\",\"programming1\":\"JavaScript\",\"programming2\":\"Python\",\"request_time\":0.5},{\"name\":\"Eden Ferrell\",\"university\":\"Edinburgh\",\"course\":\"Computer Science\",\"LoB\":\"TTS Tech\",\"location\":\"London\",\"interest1\":\"Camping\",\"interest2\":\"Calligraphy\",\"interest3\":\"Board games\",\"programming1\":\"Python\",\"programming2\":\"Scala\",\"request_time\":0.5},{\"name\":\"Eren Burt\",\"university\":\"Imperial\",\"course\":\"Physics\",\"LoB\":\"Commodities Tech\",\"location\":\"London\",\"interest1\":\"Surfing\",\"interest2\":\"Football\",\"interest3\":\"Theater\",\"programming1\":\"Go\",\"programming2\":\"Scala\",\"request_time\":0.5},{\"name\":\"Everly Beck\",\"university\":\"Durham\",\"course\":\"Maths\",\"LoB\":\"Equities Tech\",\"location\":\"London\",\"interest1\":\"Cricket\",\"interest2\":\"Camping\",\"interest3\":\"Architecture\",\"programming1\":\"Scala\",\"programming2\":\"JavaScript\",\"request_time\":1.0},{\"name\":\"Harlow Mcgill\",\"university\":\"Imperial\",\"course\":\"Computer Science\",\"LoB\":\"Rates Tech\",\"location\":\"London\",\"interest1\":\"Rugby\",\"interest2\":\"Camping\",\"interest3\":\"Football\",\"programming1\":\"TypeScript\",\"programming2\":\"Java\",\"request_time\":1.0},{\"name\":\"Jenna Hays\",\"university\":\"Bristol\",\"course\":\"Computer Science\",\"LoB\":\"FX Tech\",\"location\":\"London\",\"interest1\":\"Archery\",\"interest2\":\"Football\",\"interest3\":\"Gardening\",\"programming1\":\"C++\",\"programming2\":\"Ruby\",\"request_time\":0.5},{\"name\":\"Joss Mellor\",\"university\":\"Oxford\",\"course\":\"Computer Science\",\"LoB\":\"GSP Tech\",\"location\":\"London\",\"interest1\":\"Hiking\",\"interest2\":\"Dancing\",\"interest3\":\"Ninjas\",\"programming1\":\"Java\",\"programming2\":\"C++\",\"request_time\":1.0},{\"name\":\"Killian Nicholson\",\"university\":\"UCL\",\"course\":\"Computer Science\",\"LoB\":\"Rates Tech\",\"location\":\"Belfast\",\"interest1\":\"Painting\",\"interest2\":\"Ninjas\",\"interest3\":\"Languages\",\"programming1\":\"Java\",\"programming2\":\"C++\",\"request_time\":0.5},{\"name\":\"Lynn Yoder\",\"university\":\"Durham\",\"course\":\"Computer Science\",\"LoB\":\"Commodities Tech\",\"location\":\"London\",\"interest1\":\"Magic\",\"interest2\":\"Pop music\",\"interest3\":\"Ninjas\",\"programming1\":\"Python\",\"programming2\":\"Go\",\"request_time\":0.5},{\"name\":\"Maddy Holcomb\",\"university\":\"Bristol\",\"course\":\"Computer Science\",\"LoB\":\"TTS Tech\",\"location\":\"Belfast\",\"interest1\":\"Surfing\",\"interest2\":\"Baseball\",\"interest3\":\"Piano\",\"programming1\":\"Go\",\"programming2\":\"JavaScript\",\"request_time\":1.0},{\"name\":\"Manveer Villa\",\"university\":\"UCL\",\"course\":\"Anthropology\",\"LoB\":\"Rates Tech\",\"location\":\"London\",\"interest1\":\"Fencing\",\"interest2\":\"Hiking\",\"interest3\":\"Yoga\",\"programming1\":\"Java\",\"programming2\":\"TypeScript\",\"request_time\":1.0},{\"name\":\"Mimi Palacios\",\"university\":\"Manchester\",\"course\":\"Physics\",\"LoB\":\"Equities Tech\",\"location\":\"London\",\"interest1\":\"Hockey\",\"interest2\":\"Reading\",\"interest3\":\"Gardening\",\"programming1\":\"C++\",\"programming2\":\"C#\",\"request_time\":1.0},{\"name\":\"Robin Mackay\",\"university\":\"Warwick\",\"course\":\"Physics\",\"LoB\":\"XMRT Tech\",\"location\":\"London\",\"interest1\":\"Camping\",\"interest2\":\"Surfing\",\"interest3\":\"Basketball\",\"programming1\":\"TypeScript\",\"programming2\":\"Scala\",\"request_time\":0.5},{\"name\":\"Wade Walmsley\",\"university\":\"Nottingham\",\"course\":\"Computer Science\",\"LoB\":\"Equities Tech\",\"location\":\"Belfast\",\"interest1\":\"Baking\",\"interest2\":\"Yoga\",\"interest3\":\"Yoga\",\"programming1\":\"JavaScript\",\"programming2\":\"Java\",\"request_time\":0.5}]'"
      ]
     },
     "execution_count": 47,
     "metadata": {},
     "output_type": "execute_result"
    }
   ],
   "source": [
    "buddies_json = buddies_df.to_json(orient=\"records\")\n",
    "interns_json = interns_df.to_json(orient=\"records\")\n",
    "interns_json"
   ]
  },
  {
   "cell_type": "code",
   "execution_count": 57,
   "metadata": {},
   "outputs": [
    {
     "name": "stdout",
     "output_type": "stream",
     "text": [
      "{'name': 'Amrit Cisneros', 'university': 'Warwick', 'course': 'Economics', 'LoB': 'XMRT Tech', 'location': 'London', 'interest1': 'Baseball', 'interest2': 'Cricket', 'interest3': 'Design', 'programming1': 'Python', 'programming2': 'Java', 'request_time': 0.5}\n"
     ]
    },
    {
     "ename": "JSONDecodeError",
     "evalue": "Expecting value: line 1 column 1 (char 0)",
     "output_type": "error",
     "traceback": [
      "\u001b[0;31m---------------------------------------------------------------------------\u001b[0m",
      "\u001b[0;31mJSONDecodeError\u001b[0m                           Traceback (most recent call last)",
      "File \u001b[0;32m~/git-local/citi-hackathon-2022/.venv/lib/python3.10/site-packages/requests/models.py:971\u001b[0m, in \u001b[0;36mResponse.json\u001b[0;34m(self, **kwargs)\u001b[0m\n\u001b[1;32m    970\u001b[0m \u001b[39mtry\u001b[39;00m:\n\u001b[0;32m--> 971\u001b[0m     \u001b[39mreturn\u001b[39;00m complexjson\u001b[39m.\u001b[39;49mloads(\u001b[39mself\u001b[39;49m\u001b[39m.\u001b[39;49mtext, \u001b[39m*\u001b[39;49m\u001b[39m*\u001b[39;49mkwargs)\n\u001b[1;32m    972\u001b[0m \u001b[39mexcept\u001b[39;00m JSONDecodeError \u001b[39mas\u001b[39;00m e:\n\u001b[1;32m    973\u001b[0m     \u001b[39m# Catch JSON-related errors and raise as requests.JSONDecodeError\u001b[39;00m\n\u001b[1;32m    974\u001b[0m     \u001b[39m# This aliases json.JSONDecodeError and simplejson.JSONDecodeError\u001b[39;00m\n",
      "File \u001b[0;32m/usr/lib/python3.10/json/__init__.py:346\u001b[0m, in \u001b[0;36mloads\u001b[0;34m(s, cls, object_hook, parse_float, parse_int, parse_constant, object_pairs_hook, **kw)\u001b[0m\n\u001b[1;32m    343\u001b[0m \u001b[39mif\u001b[39;00m (\u001b[39mcls\u001b[39m \u001b[39mis\u001b[39;00m \u001b[39mNone\u001b[39;00m \u001b[39mand\u001b[39;00m object_hook \u001b[39mis\u001b[39;00m \u001b[39mNone\u001b[39;00m \u001b[39mand\u001b[39;00m\n\u001b[1;32m    344\u001b[0m         parse_int \u001b[39mis\u001b[39;00m \u001b[39mNone\u001b[39;00m \u001b[39mand\u001b[39;00m parse_float \u001b[39mis\u001b[39;00m \u001b[39mNone\u001b[39;00m \u001b[39mand\u001b[39;00m\n\u001b[1;32m    345\u001b[0m         parse_constant \u001b[39mis\u001b[39;00m \u001b[39mNone\u001b[39;00m \u001b[39mand\u001b[39;00m object_pairs_hook \u001b[39mis\u001b[39;00m \u001b[39mNone\u001b[39;00m \u001b[39mand\u001b[39;00m \u001b[39mnot\u001b[39;00m kw):\n\u001b[0;32m--> 346\u001b[0m     \u001b[39mreturn\u001b[39;00m _default_decoder\u001b[39m.\u001b[39;49mdecode(s)\n\u001b[1;32m    347\u001b[0m \u001b[39mif\u001b[39;00m \u001b[39mcls\u001b[39m \u001b[39mis\u001b[39;00m \u001b[39mNone\u001b[39;00m:\n",
      "File \u001b[0;32m/usr/lib/python3.10/json/decoder.py:337\u001b[0m, in \u001b[0;36mJSONDecoder.decode\u001b[0;34m(self, s, _w)\u001b[0m\n\u001b[1;32m    333\u001b[0m \u001b[39m\"\"\"Return the Python representation of ``s`` (a ``str`` instance\u001b[39;00m\n\u001b[1;32m    334\u001b[0m \u001b[39mcontaining a JSON document).\u001b[39;00m\n\u001b[1;32m    335\u001b[0m \n\u001b[1;32m    336\u001b[0m \u001b[39m\"\"\"\u001b[39;00m\n\u001b[0;32m--> 337\u001b[0m obj, end \u001b[39m=\u001b[39m \u001b[39mself\u001b[39;49m\u001b[39m.\u001b[39;49mraw_decode(s, idx\u001b[39m=\u001b[39;49m_w(s, \u001b[39m0\u001b[39;49m)\u001b[39m.\u001b[39;49mend())\n\u001b[1;32m    338\u001b[0m end \u001b[39m=\u001b[39m _w(s, end)\u001b[39m.\u001b[39mend()\n",
      "File \u001b[0;32m/usr/lib/python3.10/json/decoder.py:355\u001b[0m, in \u001b[0;36mJSONDecoder.raw_decode\u001b[0;34m(self, s, idx)\u001b[0m\n\u001b[1;32m    354\u001b[0m \u001b[39mexcept\u001b[39;00m \u001b[39mStopIteration\u001b[39;00m \u001b[39mas\u001b[39;00m err:\n\u001b[0;32m--> 355\u001b[0m     \u001b[39mraise\u001b[39;00m JSONDecodeError(\u001b[39m\"\u001b[39m\u001b[39mExpecting value\u001b[39m\u001b[39m\"\u001b[39m, s, err\u001b[39m.\u001b[39mvalue) \u001b[39mfrom\u001b[39;00m \u001b[39mNone\u001b[39m\n\u001b[1;32m    356\u001b[0m \u001b[39mreturn\u001b[39;00m obj, end\n",
      "\u001b[0;31mJSONDecodeError\u001b[0m: Expecting value: line 1 column 1 (char 0)",
      "\nDuring handling of the above exception, another exception occurred:\n",
      "\u001b[0;31mJSONDecodeError\u001b[0m                           Traceback (most recent call last)",
      "\u001b[1;32m/home/matt/git-local/citi-hackathon-2022/model.ipynb Cell 4\u001b[0m in \u001b[0;36m<cell line: 1>\u001b[0;34m()\u001b[0m\n\u001b[1;32m      <a href='vscode-notebook-cell:/home/matt/git-local/citi-hackathon-2022/model.ipynb#ch0000003?line=1'>2</a>\u001b[0m \u001b[39mprint\u001b[39m(entry)\n\u001b[1;32m      <a href='vscode-notebook-cell:/home/matt/git-local/citi-hackathon-2022/model.ipynb#ch0000003?line=2'>3</a>\u001b[0m r \u001b[39m=\u001b[39m requests\u001b[39m.\u001b[39mpost(\u001b[39m\"\u001b[39m\u001b[39mhttp://localhost:8000/api/interns\u001b[39m\u001b[39m\"\u001b[39m, data\u001b[39m=\u001b[39mentry)\n\u001b[0;32m----> <a href='vscode-notebook-cell:/home/matt/git-local/citi-hackathon-2022/model.ipynb#ch0000003?line=3'>4</a>\u001b[0m \u001b[39mf\u001b[39m\u001b[39m\"\u001b[39m\u001b[39mStatus Code: \u001b[39m\u001b[39m{\u001b[39;00mr\u001b[39m.\u001b[39mstatus_code\u001b[39m}\u001b[39;00m\u001b[39m, Response: \u001b[39m\u001b[39m{\u001b[39;00mr\u001b[39m.\u001b[39mjson()\u001b[39m}\u001b[39;00m\u001b[39m\"\u001b[39m\n",
      "File \u001b[0;32m~/git-local/citi-hackathon-2022/.venv/lib/python3.10/site-packages/requests/models.py:975\u001b[0m, in \u001b[0;36mResponse.json\u001b[0;34m(self, **kwargs)\u001b[0m\n\u001b[1;32m    971\u001b[0m     \u001b[39mreturn\u001b[39;00m complexjson\u001b[39m.\u001b[39mloads(\u001b[39mself\u001b[39m\u001b[39m.\u001b[39mtext, \u001b[39m*\u001b[39m\u001b[39m*\u001b[39mkwargs)\n\u001b[1;32m    972\u001b[0m \u001b[39mexcept\u001b[39;00m JSONDecodeError \u001b[39mas\u001b[39;00m e:\n\u001b[1;32m    973\u001b[0m     \u001b[39m# Catch JSON-related errors and raise as requests.JSONDecodeError\u001b[39;00m\n\u001b[1;32m    974\u001b[0m     \u001b[39m# This aliases json.JSONDecodeError and simplejson.JSONDecodeError\u001b[39;00m\n\u001b[0;32m--> 975\u001b[0m     \u001b[39mraise\u001b[39;00m RequestsJSONDecodeError(e\u001b[39m.\u001b[39mmsg, e\u001b[39m.\u001b[39mdoc, e\u001b[39m.\u001b[39mpos)\n",
      "\u001b[0;31mJSONDecodeError\u001b[0m: Expecting value: line 1 column 1 (char 0)"
     ]
    }
   ],
   "source": [
    "for entry in json.loads(interns_json):\n",
    "    print(entry)\n",
    "    r = requests.post(\"http://localhost:8000/api/interns\", data=entry)\n",
    "    f\"Status Code: {r.status_code}, Response: {r.json()}\""
   ]
  },
  {
   "cell_type": "code",
   "execution_count": null,
   "metadata": {},
   "outputs": [],
   "source": []
  }
 ],
 "metadata": {
  "kernelspec": {
   "display_name": "Python 3.10.4 ('.venv': venv)",
   "language": "python",
   "name": "python3"
  },
  "language_info": {
   "codemirror_mode": {
    "name": "ipython",
    "version": 3
   },
   "file_extension": ".py",
   "mimetype": "text/x-python",
   "name": "python",
   "nbconvert_exporter": "python",
   "pygments_lexer": "ipython3",
   "version": "3.10.4"
  },
  "orig_nbformat": 4,
  "vscode": {
   "interpreter": {
    "hash": "d4c83dd185387fe48adc29318cd3d7ff1c526c20d8434561cf6276bb8cf37d68"
   }
  }
 },
 "nbformat": 4,
 "nbformat_minor": 2
}
